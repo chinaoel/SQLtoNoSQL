{
 "cells": [
  {
   "cell_type": "code",
   "execution_count": 145,
   "metadata": {},
   "outputs": [],
   "source": [
    "import pandas as pd"
   ]
  },
  {
   "cell_type": "code",
   "execution_count": 147,
   "metadata": {},
   "outputs": [
    {
     "name": "stdout",
     "output_type": "stream",
     "text": [
      "nothing to repeat at position 0\n",
      "('Book 3: Prisoner of Azkaban', 'chap-22'),*ignored her,member of,*ignored her,Ron *ignored her.  ,NEUTRAL,0.8526767492294312,\n",
      "\n",
      "nothing to repeat at position 0\n",
      "('Book 2: Chamber of Secrets', 'chap-19'),I'm so glad I've got this diary to *309*,has part,*309*,I'm so glad I've got this diary to  *309*  confide in ....,ENTAILMENT,0.512889564037323,\n",
      "\n"
     ]
    }
   ],
   "source": [
    "import os\n",
    "import re \n",
    "cnt = 0\n",
    "data = []\n",
    "for fname in os.listdir():\n",
    "    \n",
    "    if fname.endswith('.csv') and fname.startswith('('):\n",
    "        \n",
    "        with open(fname) as f:\n",
    "            \n",
    "            keys = f.readline().strip().split(',')\n",
    "            for line in f:\n",
    "                temp = {}\n",
    "                if len(line.split(',')) < 7:\n",
    "                    print(fname)\n",
    "                    continue\n",
    "                temp['Origin'] = line.split('.csv')[0]\n",
    "                temp['Subject'] = line.split(',')[2]\n",
    "                temp['Object'] = line.split(',')[3]\n",
    "                temp['Relation'] = line.split(',')[4]\n",
    "                \n",
    "               \n",
    "\n",
    "                temp['NLIlabel'] = line.split(',')[-3]\n",
    "                temp['NLIscore'] = line.split(',')[-2]\n",
    "\n",
    "                if temp['NLIlabel'] not in ('NEUTRAL','CONTRADICTION','ENTAILMENT'):\n",
    "                    continue\n",
    "                #print(temp['Relation'])\n",
    "                #print(temp['NLIlabel'])\n",
    "                try:\n",
    "                    result = re.search(f\"{temp['Relation']}(.*?){temp['NLIlabel']}\",line)\n",
    "                except Exception as e:\n",
    "                    print(e)\n",
    "                    print(line)\n",
    "                    continue\n",
    "                if result and result.group(1):\n",
    "                    temp['OrigSent'] = result.group(1).lstrip(',').rstrip(',')\n",
    "                else:\n",
    "                    temp['OrigSent'] = ''\n",
    "                #print(temp)\n",
    "                \n",
    "                \n",
    "                data.append(temp)\n",
    "                cnt += 1"
   ]
  },
  {
   "cell_type": "code",
   "execution_count": 148,
   "metadata": {},
   "outputs": [],
   "source": [
    "df = pd.DataFrame(data)"
   ]
  },
  {
   "cell_type": "code",
   "execution_count": 149,
   "metadata": {},
   "outputs": [
    {
     "data": {
      "text/plain": [
       "NLIlabel\n",
       "NEUTRAL          86697\n",
       "ENTAILMENT       53699\n",
       "CONTRADICTION    12120\n",
       "Name: count, dtype: int64"
      ]
     },
     "execution_count": 149,
     "metadata": {},
     "output_type": "execute_result"
    }
   ],
   "source": [
    "df['NLIlabel'].value_counts()"
   ]
  },
  {
   "cell_type": "code",
   "execution_count": 150,
   "metadata": {},
   "outputs": [],
   "source": [
    "df_filtered = df[(df['NLIlabel'] == 'ENTAILMENT' ) & (df['NLIscore'] > '0.7') & (df['Subject'] != df['Object']) & (df['Object'] != df['Relation']) & (df['Subject'] != df['Relation'])]"
   ]
  },
  {
   "cell_type": "code",
   "execution_count": 127,
   "metadata": {},
   "outputs": [],
   "source": [
    "import requests\n",
    "res = requests.get(\"https://raw.githubusercontent.com/gastonstat/harry-potter-data/main/csv-data-file/harry_potter_books.csv\")\n",
    "from io import StringIO\n",
    "\n",
    "import pandas as pd\n",
    "\n",
    "TESTDATA = StringIO(res.text)\n",
    "\n",
    "df_ner = pd.read_csv(TESTDATA, sep=\",\")\n",
    "df_ner.head()\n",
    "\n",
    "agg_df = df_ner.groupby(['book','chapter']).text.apply(lambda x:\" \".join(x))"
   ]
  },
  {
   "cell_type": "code",
   "execution_count": 128,
   "metadata": {},
   "outputs": [],
   "source": [
    "corpus = \" \".join(agg_df.values)"
   ]
  },
  {
   "cell_type": "code",
   "execution_count": 129,
   "metadata": {},
   "outputs": [
    {
     "name": "stdout",
     "output_type": "stream",
     "text": [
      "Collecting en-core-web-sm==3.7.1\n",
      "  Downloading https://github.com/explosion/spacy-models/releases/download/en_core_web_sm-3.7.1/en_core_web_sm-3.7.1-py3-none-any.whl (12.8 MB)\n",
      "\u001b[2K     \u001b[90m━━━━━━━━━━━━━━━━━━━━━━━━━━━━━━━━━━━━━━━━\u001b[0m \u001b[32m12.8/12.8 MB\u001b[0m \u001b[31m7.8 MB/s\u001b[0m eta \u001b[36m0:00:00\u001b[0m:00:01\u001b[0m00:01\u001b[0m\n",
      "\u001b[?25hRequirement already satisfied: spacy<3.8.0,>=3.7.2 in /home/joung/miniconda3/envs/sqlnosql/lib/python3.11/site-packages (from en-core-web-sm==3.7.1) (3.7.4)\n",
      "Requirement already satisfied: spacy-legacy<3.1.0,>=3.0.11 in /home/joung/miniconda3/envs/sqlnosql/lib/python3.11/site-packages (from spacy<3.8.0,>=3.7.2->en-core-web-sm==3.7.1) (3.0.12)\n",
      "Requirement already satisfied: spacy-loggers<2.0.0,>=1.0.0 in /home/joung/miniconda3/envs/sqlnosql/lib/python3.11/site-packages (from spacy<3.8.0,>=3.7.2->en-core-web-sm==3.7.1) (1.0.5)\n",
      "Requirement already satisfied: murmurhash<1.1.0,>=0.28.0 in /home/joung/miniconda3/envs/sqlnosql/lib/python3.11/site-packages (from spacy<3.8.0,>=3.7.2->en-core-web-sm==3.7.1) (1.0.10)\n",
      "Requirement already satisfied: cymem<2.1.0,>=2.0.2 in /home/joung/miniconda3/envs/sqlnosql/lib/python3.11/site-packages (from spacy<3.8.0,>=3.7.2->en-core-web-sm==3.7.1) (2.0.8)\n",
      "Requirement already satisfied: preshed<3.1.0,>=3.0.2 in /home/joung/miniconda3/envs/sqlnosql/lib/python3.11/site-packages (from spacy<3.8.0,>=3.7.2->en-core-web-sm==3.7.1) (3.0.9)\n",
      "Requirement already satisfied: thinc<8.3.0,>=8.2.2 in /home/joung/miniconda3/envs/sqlnosql/lib/python3.11/site-packages (from spacy<3.8.0,>=3.7.2->en-core-web-sm==3.7.1) (8.2.3)\n",
      "Requirement already satisfied: wasabi<1.2.0,>=0.9.1 in /home/joung/miniconda3/envs/sqlnosql/lib/python3.11/site-packages (from spacy<3.8.0,>=3.7.2->en-core-web-sm==3.7.1) (1.1.3)\n",
      "Requirement already satisfied: srsly<3.0.0,>=2.4.3 in /home/joung/miniconda3/envs/sqlnosql/lib/python3.11/site-packages (from spacy<3.8.0,>=3.7.2->en-core-web-sm==3.7.1) (2.4.8)\n",
      "Requirement already satisfied: catalogue<2.1.0,>=2.0.6 in /home/joung/miniconda3/envs/sqlnosql/lib/python3.11/site-packages (from spacy<3.8.0,>=3.7.2->en-core-web-sm==3.7.1) (2.0.10)\n",
      "Requirement already satisfied: weasel<0.4.0,>=0.1.0 in /home/joung/miniconda3/envs/sqlnosql/lib/python3.11/site-packages (from spacy<3.8.0,>=3.7.2->en-core-web-sm==3.7.1) (0.3.4)\n",
      "Requirement already satisfied: typer<0.10.0,>=0.3.0 in /home/joung/miniconda3/envs/sqlnosql/lib/python3.11/site-packages (from spacy<3.8.0,>=3.7.2->en-core-web-sm==3.7.1) (0.9.4)\n",
      "Requirement already satisfied: smart-open<7.0.0,>=5.2.1 in /home/joung/miniconda3/envs/sqlnosql/lib/python3.11/site-packages (from spacy<3.8.0,>=3.7.2->en-core-web-sm==3.7.1) (6.4.0)\n",
      "Requirement already satisfied: tqdm<5.0.0,>=4.38.0 in /home/joung/miniconda3/envs/sqlnosql/lib/python3.11/site-packages (from spacy<3.8.0,>=3.7.2->en-core-web-sm==3.7.1) (4.66.4)\n",
      "Requirement already satisfied: requests<3.0.0,>=2.13.0 in /home/joung/miniconda3/envs/sqlnosql/lib/python3.11/site-packages (from spacy<3.8.0,>=3.7.2->en-core-web-sm==3.7.1) (2.32.3)\n",
      "Requirement already satisfied: pydantic!=1.8,!=1.8.1,<3.0.0,>=1.7.4 in /home/joung/miniconda3/envs/sqlnosql/lib/python3.11/site-packages (from spacy<3.8.0,>=3.7.2->en-core-web-sm==3.7.1) (2.7.2)\n",
      "Requirement already satisfied: jinja2 in /home/joung/miniconda3/envs/sqlnosql/lib/python3.11/site-packages (from spacy<3.8.0,>=3.7.2->en-core-web-sm==3.7.1) (3.1.4)\n",
      "Requirement already satisfied: setuptools in /home/joung/miniconda3/envs/sqlnosql/lib/python3.11/site-packages (from spacy<3.8.0,>=3.7.2->en-core-web-sm==3.7.1) (69.5.1)\n",
      "Requirement already satisfied: packaging>=20.0 in /home/joung/miniconda3/envs/sqlnosql/lib/python3.11/site-packages (from spacy<3.8.0,>=3.7.2->en-core-web-sm==3.7.1) (24.0)\n",
      "Requirement already satisfied: langcodes<4.0.0,>=3.2.0 in /home/joung/miniconda3/envs/sqlnosql/lib/python3.11/site-packages (from spacy<3.8.0,>=3.7.2->en-core-web-sm==3.7.1) (3.4.0)\n",
      "Requirement already satisfied: numpy>=1.19.0 in /home/joung/miniconda3/envs/sqlnosql/lib/python3.11/site-packages (from spacy<3.8.0,>=3.7.2->en-core-web-sm==3.7.1) (1.26.4)\n",
      "Requirement already satisfied: language-data>=1.2 in /home/joung/miniconda3/envs/sqlnosql/lib/python3.11/site-packages (from langcodes<4.0.0,>=3.2.0->spacy<3.8.0,>=3.7.2->en-core-web-sm==3.7.1) (1.2.0)\n",
      "Requirement already satisfied: annotated-types>=0.4.0 in /home/joung/miniconda3/envs/sqlnosql/lib/python3.11/site-packages (from pydantic!=1.8,!=1.8.1,<3.0.0,>=1.7.4->spacy<3.8.0,>=3.7.2->en-core-web-sm==3.7.1) (0.7.0)\n",
      "Requirement already satisfied: pydantic-core==2.18.3 in /home/joung/miniconda3/envs/sqlnosql/lib/python3.11/site-packages (from pydantic!=1.8,!=1.8.1,<3.0.0,>=1.7.4->spacy<3.8.0,>=3.7.2->en-core-web-sm==3.7.1) (2.18.3)\n",
      "Requirement already satisfied: typing-extensions>=4.6.1 in /home/joung/miniconda3/envs/sqlnosql/lib/python3.11/site-packages (from pydantic!=1.8,!=1.8.1,<3.0.0,>=1.7.4->spacy<3.8.0,>=3.7.2->en-core-web-sm==3.7.1) (4.12.1)\n",
      "Requirement already satisfied: charset-normalizer<4,>=2 in /home/joung/miniconda3/envs/sqlnosql/lib/python3.11/site-packages (from requests<3.0.0,>=2.13.0->spacy<3.8.0,>=3.7.2->en-core-web-sm==3.7.1) (3.3.2)\n",
      "Requirement already satisfied: idna<4,>=2.5 in /home/joung/miniconda3/envs/sqlnosql/lib/python3.11/site-packages (from requests<3.0.0,>=2.13.0->spacy<3.8.0,>=3.7.2->en-core-web-sm==3.7.1) (3.7)\n",
      "Requirement already satisfied: urllib3<3,>=1.21.1 in /home/joung/miniconda3/envs/sqlnosql/lib/python3.11/site-packages (from requests<3.0.0,>=2.13.0->spacy<3.8.0,>=3.7.2->en-core-web-sm==3.7.1) (2.2.1)\n",
      "Requirement already satisfied: certifi>=2017.4.17 in /home/joung/miniconda3/envs/sqlnosql/lib/python3.11/site-packages (from requests<3.0.0,>=2.13.0->spacy<3.8.0,>=3.7.2->en-core-web-sm==3.7.1) (2024.6.2)\n",
      "Requirement already satisfied: blis<0.8.0,>=0.7.8 in /home/joung/miniconda3/envs/sqlnosql/lib/python3.11/site-packages (from thinc<8.3.0,>=8.2.2->spacy<3.8.0,>=3.7.2->en-core-web-sm==3.7.1) (0.7.11)\n",
      "Requirement already satisfied: confection<1.0.0,>=0.0.1 in /home/joung/miniconda3/envs/sqlnosql/lib/python3.11/site-packages (from thinc<8.3.0,>=8.2.2->spacy<3.8.0,>=3.7.2->en-core-web-sm==3.7.1) (0.1.5)\n",
      "Requirement already satisfied: click<9.0.0,>=7.1.1 in /home/joung/miniconda3/envs/sqlnosql/lib/python3.11/site-packages (from typer<0.10.0,>=0.3.0->spacy<3.8.0,>=3.7.2->en-core-web-sm==3.7.1) (8.1.7)\n",
      "Requirement already satisfied: cloudpathlib<0.17.0,>=0.7.0 in /home/joung/miniconda3/envs/sqlnosql/lib/python3.11/site-packages (from weasel<0.4.0,>=0.1.0->spacy<3.8.0,>=3.7.2->en-core-web-sm==3.7.1) (0.16.0)\n",
      "Requirement already satisfied: MarkupSafe>=2.0 in /home/joung/miniconda3/envs/sqlnosql/lib/python3.11/site-packages (from jinja2->spacy<3.8.0,>=3.7.2->en-core-web-sm==3.7.1) (2.1.5)\n",
      "Requirement already satisfied: marisa-trie>=0.7.7 in /home/joung/miniconda3/envs/sqlnosql/lib/python3.11/site-packages (from language-data>=1.2->langcodes<4.0.0,>=3.2.0->spacy<3.8.0,>=3.7.2->en-core-web-sm==3.7.1) (1.1.1)\n",
      "\u001b[38;5;2m✔ Download and installation successful\u001b[0m\n",
      "You can now load the package via spacy.load('en_core_web_sm')\n",
      "\u001b[38;5;3m⚠ Restart to reload dependencies\u001b[0m\n",
      "If you are in a Jupyter or Colab notebook, you may need to restart Python in\n",
      "order to load all the package's dependencies. You can do this by selecting the\n",
      "'Restart kernel' or 'Restart runtime' option.\n"
     ]
    }
   ],
   "source": [
    "# Load SpaCy model for NER\n",
    "from spacy.cli import download\n",
    "import spacy\n",
    "download(\"en_core_web_sm\")\n",
    "nlp = spacy.load(\"en_core_web_sm\")\n",
    "\n",
    "# Text of length 6269985 exceeds maximum of 1000000.\n",
    "batch = len(corpus) // 900000\n",
    "\n",
    "entities_set = set()\n",
    "for i in range(0, batch):\n",
    "    batch_corpus = corpus[i*900000:(i+1)*900000]\n",
    "    doc = nlp(batch_corpus)\n",
    "    # Extract named entities\n",
    "    entities_list = [(entity.text, entity.label_) for entity in doc.ents]\n",
    "    filtered_entity = ['DATE','WORK_OF_ART','CARDINAL','TIME','ORDINAL']\n",
    "    entities = set([s[0] for s in entities_list if s[1] not in filtered_entity ])\n",
    "    for entity in entities:\n",
    "        entities_set.add(entity)"
   ]
  },
  {
   "cell_type": "code",
   "execution_count": 151,
   "metadata": {},
   "outputs": [],
   "source": [
    "isin = df_filtered.isin(entities_set)"
   ]
  },
  {
   "cell_type": "code",
   "execution_count": 152,
   "metadata": {},
   "outputs": [],
   "source": [
    "df_filtered[isin[['Subject','Object']].sum(axis=1) > 0].to_csv('KG.csv')"
   ]
  }
 ],
 "metadata": {
  "kernelspec": {
   "display_name": "sqlnosql",
   "language": "python",
   "name": "python3"
  },
  "language_info": {
   "codemirror_mode": {
    "name": "ipython",
    "version": 3
   },
   "file_extension": ".py",
   "mimetype": "text/x-python",
   "name": "python",
   "nbconvert_exporter": "python",
   "pygments_lexer": "ipython3",
   "version": "3.11.9"
  }
 },
 "nbformat": 4,
 "nbformat_minor": 2
}
